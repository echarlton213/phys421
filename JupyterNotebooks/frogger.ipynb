{
 "cells": [
  {
   "cell_type": "code",
   "execution_count": 1,
   "metadata": {},
   "outputs": [],
   "source": [
    "import numpy as np\n",
    "import matplotlib.pyplot as plt\n",
    "import scipy.stats as stats\n",
    "import random"
   ]
  },
  {
   "cell_type": "code",
   "execution_count": 2,
   "metadata": {},
   "outputs": [],
   "source": [
    "n = 20"
   ]
  },
  {
   "cell_type": "code",
   "execution_count": 3,
   "metadata": {},
   "outputs": [],
   "source": [
    "random.seed(1)"
   ]
  },
  {
   "cell_type": "code",
   "execution_count": 4,
   "metadata": {},
   "outputs": [],
   "source": [
    "start = 0\n",
    "jumpsum = 0\n",
    "total_jumps = 0\n",
    "n_trys = 100000\n",
    "\n",
    "x = []\n",
    "y = []\n",
    "eval = []\n",
    "evalr = []\n",
    "evalr2 = []\n",
    "evalr3 = []\n",
    "sigma = []"
   ]
  },
  {
   "cell_type": "code",
   "execution_count": 5,
   "metadata": {},
   "outputs": [
    {
     "name": "stdout",
     "output_type": "stream",
     "text": [
      "Theory:  1 1\n",
      "Expectation value for n = 1 is 1.000000 +/- 0.003162\n",
      "Theory:  2 1.5\n",
      "Expectation value for n = 2 is 1.500280 +/- 0.004744\n",
      "Theory:  3 1.8333333333333333\n",
      "Expectation value for n = 3 is 1.829110 +/- 0.005784\n",
      "Theory:  4 2.083333333333333\n",
      "Expectation value for n = 4 is 2.083480 +/- 0.006589\n",
      "Theory:  5 2.2833333333333337\n",
      "Expectation value for n = 5 is 2.280940 +/- 0.007213\n",
      "Theory:  6 2.4499999999999997\n",
      "Expectation value for n = 6 is 2.457640 +/- 0.007772\n",
      "Theory:  7 2.5928571428571425\n",
      "Expectation value for n = 7 is 2.591740 +/- 0.008196\n",
      "Theory:  8 2.7178571428571425\n",
      "Expectation value for n = 8 is 2.720050 +/- 0.008602\n",
      "Theory:  9 2.8289682539682537\n",
      "Expectation value for n = 9 is 2.828080 +/- 0.008943\n",
      "Theory:  10 2.928968253968254\n",
      "Expectation value for n = 10 is 2.926750 +/- 0.009255\n",
      "Theory:  11 3.0198773448773446\n",
      "Expectation value for n = 11 is 3.018810 +/- 0.009546\n",
      "Theory:  12 3.1032106782106785\n",
      "Expectation value for n = 12 is 3.103960 +/- 0.009816\n",
      "Theory:  13 3.1801337551337556\n",
      "Expectation value for n = 13 is 3.179040 +/- 0.010053\n",
      "Theory:  14 3.2515623265623264\n",
      "Expectation value for n = 14 is 3.246120 +/- 0.010265\n",
      "Theory:  15 3.3182289932289932\n",
      "Expectation value for n = 15 is 3.326140 +/- 0.010518\n",
      "Theory:  16 3.3807289932289937\n",
      "Expectation value for n = 16 is 3.386080 +/- 0.010708\n",
      "Theory:  17 3.439552522640758\n",
      "Expectation value for n = 17 is 3.442760 +/- 0.010887\n",
      "Theory:  18 3.4951080781963126\n",
      "Expectation value for n = 18 is 3.498580 +/- 0.011063\n",
      "Theory:  19 3.547739657143682\n",
      "Expectation value for n = 19 is 3.553160 +/- 0.011236\n",
      "Theory:  20 3.597739657143682\n",
      "Expectation value for n = 20 is 3.591580 +/- 0.011358\n"
     ]
    }
   ],
   "source": [
    "for npad in range(1,n+1): \n",
    "\n",
    "    if (npad == 1):\n",
    "        eval.append(1)\n",
    "        evalr.append(1)\n",
    "    else:\n",
    "        sum = 0.0\n",
    "        for i in range(1,npad):\n",
    "            #print(i,npad,eval[npad-i-1])\n",
    "            sum = sum + 1.0/npad*(1.0+eval[npad-i-1])\n",
    "        sum = sum + 1.0/npad\n",
    "        eval.append(sum)\n",
    "        #evalr.append(eval[npad-1]/npad)\n",
    "        evalr.append(eval[npad-1])\n",
    "    print(\"Theory: \",npad,eval[npad-1])\n",
    "    \n",
    "    sum = 0.0\n",
    "    for i in range(1,npad+1):\n",
    "        sum = sum + 1.0/i\n",
    "    evalr2.append(sum)\n",
    "    \n",
    "    x.append(npad)\n",
    "    \n",
    "    sum2 = 1.0/stats.hmean(x)*npad\n",
    "    evalr3.append(sum2)\n",
    "    \n",
    "    #print (npad,sum2)\n",
    "    \n",
    "    end = npad\n",
    "    for j in range(n_trys):\n",
    "        while start < npad:\n",
    "            jump = int(random.uniform(1,(end-start+1)))\n",
    "            #print (\"Jump = \",jump)\n",
    "            start = start + jump\n",
    "            #print (\"Now at \",start)\n",
    "            jumpsum = jumpsum + 1\n",
    "        start = 0\n",
    "        #print (\"j = %d, Total_jumps = %d\" % (j,jumpsum))\n",
    "        total_jumps = total_jumps + jumpsum\n",
    "        jumpsum = 0\n",
    "    \n",
    "    #print (npad,total_jumps,n_trys)\n",
    "\n",
    "    expectation_value = total_jumps/n_trys*1.0\n",
    "    y.append(expectation_value)\n",
    "    sigma.append(expectation_value*1/np.sqrt(n_trys))\n",
    "    total_jumps = 0\n",
    "    \n",
    "    print (\"Expectation value for n = %d is %f +/- %f\" % (npad,expectation_value,expectation_value*1/np.sqrt(n_trys)))\n",
    "    "
   ]
  },
  {
   "cell_type": "code",
   "execution_count": 6,
   "metadata": {},
   "outputs": [
    {
     "data": {
      "text/plain": [
       "[<matplotlib.lines.Line2D at 0x7fb76a3c5828>]"
      ]
     },
     "execution_count": 6,
     "metadata": {},
     "output_type": "execute_result"
    },
    {
     "data": {
      "image/png": "[encoded data removed]",
      "text/plain": [
       "<Figure size 1080x864 with 1 Axes>"
      ]
     },
     "metadata": {
      "needs_background": "light"
     },
     "output_type": "display_data"
    }
   ],
   "source": [
    "def fitfunction(x,*paramlist):\n",
    "    return paramlist[0]+paramlist[1]*x+paramlist[2]*x*x+paramlist[3]*x*x*x\n",
    "\n",
    "\n",
    "fig = plt.figure(figsize=(15,12))\n",
    "ax1 = fig.add_subplot(111)\n",
    "\n",
    "ax1.set_title(\"Frog Problem\")\n",
    "ax1.set_xlabel('N')\n",
    "ax1.set_ylabel('Expected Number of Jumps / N')\n",
    "ax1.set_xlim(0,n+1)\n",
    "#ax1.set_yscale(\"log\")\n",
    "#ax1.set_xscale(\"log\")\n",
    "ax1.grid(True)\n",
    "\n",
    "ax1.errorbar(x,y,yerr=sigma,fmt='o')\n",
    "ax1.plot(x,evalr,'r--')\n",
    "#ax1.plot(x,evalr2,'b--')\n",
    "#ax1.plot(x,evalr3,'g--')\n"
   ]
  },
  {
   "cell_type": "code",
   "execution_count": null,
   "metadata": {},
   "outputs": [],
   "source": []
  },
  {
   "cell_type": "code",
   "execution_count": null,
   "metadata": {},
   "outputs": [],
   "source": []
  },
  {
   "cell_type": "code",
   "execution_count": null,
   "metadata": {},
   "outputs": [],
   "source": []
  },
  {
   "cell_type": "code",
   "execution_count": null,
   "metadata": {},
   "outputs": [],
   "source": []
  }
 ],
 "metadata": {
  "kernelspec": {
   "display_name": "Python 3",
   "language": "python",
   "name": "python3"
  },
  "language_info": {
   "codemirror_mode": {
    "name": "ipython",
    "version": 3
   },
   "file_extension": ".py",
   "mimetype": "text/x-python",
   "name": "python",
   "nbconvert_exporter": "python",
   "pygments_lexer": "ipython3",
   "version": "3.6.8"
  }
 },
 "nbformat": 4,
 "nbformat_minor": 4
}
